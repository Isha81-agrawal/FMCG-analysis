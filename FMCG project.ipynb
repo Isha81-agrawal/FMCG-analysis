{
 "cells": [
  {
   "cell_type": "code",
   "execution_count": 2,
   "id": "3ef747f5-6601-4623-931e-7816ce6ef95a",
   "metadata": {},
   "outputs": [],
   "source": [
    "import pandas as pd\n",
    "import numpy as np\n",
    "import re"
   ]
  },
  {
   "cell_type": "code",
   "execution_count": 3,
   "id": "a4bd8d5e-4274-491e-aa3e-8506f8b630c4",
   "metadata": {},
   "outputs": [
    {
     "name": "stdout",
     "output_type": "stream",
     "text": [
      "<class 'pandas.core.frame.DataFrame'>\n",
      "RangeIndex: 224 entries, 0 to 223\n",
      "Data columns (total 7 columns):\n",
      " #   Column        Non-Null Count  Dtype \n",
      "---  ------        --------------  ----- \n",
      " 0   Month         224 non-null    object\n",
      " 1   Channel       224 non-null    object\n",
      " 2   Sub-Channels  224 non-null    object\n",
      " 3   Product Name  224 non-null    object\n",
      " 4   Category      224 non-null    object\n",
      " 5   Qty           224 non-null    object\n",
      " 6   Sales         224 non-null    object\n",
      "dtypes: object(7)\n",
      "memory usage: 12.4+ KB\n",
      "None\n"
     ]
    },
    {
     "data": {
      "text/html": [
       "<div>\n",
       "<style scoped>\n",
       "    .dataframe tbody tr th:only-of-type {\n",
       "        vertical-align: middle;\n",
       "    }\n",
       "\n",
       "    .dataframe tbody tr th {\n",
       "        vertical-align: top;\n",
       "    }\n",
       "\n",
       "    .dataframe thead th {\n",
       "        text-align: right;\n",
       "    }\n",
       "</style>\n",
       "<table border=\"1\" class=\"dataframe\">\n",
       "  <thead>\n",
       "    <tr style=\"text-align: right;\">\n",
       "      <th></th>\n",
       "      <th>Month</th>\n",
       "      <th>Channel</th>\n",
       "      <th>Sub-Channels</th>\n",
       "      <th>Product Name</th>\n",
       "      <th>Category</th>\n",
       "      <th>Qty</th>\n",
       "      <th>Sales</th>\n",
       "    </tr>\n",
       "  </thead>\n",
       "  <tbody>\n",
       "    <tr>\n",
       "      <th>0</th>\n",
       "      <td>01-Dec-20</td>\n",
       "      <td>Marketplace</td>\n",
       "      <td>AMAZON</td>\n",
       "      <td>ALOE + AMLA JUICE 1 L</td>\n",
       "      <td>Juices</td>\n",
       "      <td>1,116</td>\n",
       "      <td>4,28,700</td>\n",
       "    </tr>\n",
       "    <tr>\n",
       "      <th>1</th>\n",
       "      <td>01-Dec-20</td>\n",
       "      <td>Marketplace</td>\n",
       "      <td>AMAZON</td>\n",
       "      <td>ALOE + GARCINIA JUICE 1 L</td>\n",
       "      <td>Juices</td>\n",
       "      <td>3,003</td>\n",
       "      <td>13,74,831</td>\n",
       "    </tr>\n",
       "    <tr>\n",
       "      <th>2</th>\n",
       "      <td>01-Dec-20</td>\n",
       "      <td>Marketplace</td>\n",
       "      <td>AMAZON</td>\n",
       "      <td>ALOE VERA JUICE 1 L</td>\n",
       "      <td>Juices</td>\n",
       "      <td>2,962</td>\n",
       "      <td>7,32,167</td>\n",
       "    </tr>\n",
       "    <tr>\n",
       "      <th>3</th>\n",
       "      <td>01-Dec-20</td>\n",
       "      <td>Marketplace</td>\n",
       "      <td>AMAZON</td>\n",
       "      <td>ALOE VERA SKIN GEL 500 GM</td>\n",
       "      <td>Gourmet Nutrition</td>\n",
       "      <td>1,004</td>\n",
       "      <td>3,77,100</td>\n",
       "    </tr>\n",
       "    <tr>\n",
       "      <th>4</th>\n",
       "      <td>01-Dec-20</td>\n",
       "      <td>Marketplace</td>\n",
       "      <td>AMAZON</td>\n",
       "      <td>NEEM JUICE 1 L</td>\n",
       "      <td>Juices</td>\n",
       "      <td>555</td>\n",
       "      <td>1,52,287</td>\n",
       "    </tr>\n",
       "    <tr>\n",
       "      <th>5</th>\n",
       "      <td>01-Dec-20</td>\n",
       "      <td>Marketplace</td>\n",
       "      <td>AMAZON</td>\n",
       "      <td>NONI JUICE 1 L</td>\n",
       "      <td>Juices</td>\n",
       "      <td>874</td>\n",
       "      <td>4,02,631</td>\n",
       "    </tr>\n",
       "    <tr>\n",
       "      <th>6</th>\n",
       "      <td>01-Dec-20</td>\n",
       "      <td>Marketplace</td>\n",
       "      <td>AMAZON</td>\n",
       "      <td>SLIM SHAKE - CHOCOLATE 500 GM</td>\n",
       "      <td>Functional nutrition</td>\n",
       "      <td>658</td>\n",
       "      <td>7,58,234</td>\n",
       "    </tr>\n",
       "    <tr>\n",
       "      <th>7</th>\n",
       "      <td>01-Dec-20</td>\n",
       "      <td>Marketplace</td>\n",
       "      <td>AMAZON</td>\n",
       "      <td>SLIM SHAKE - MANGO 500 GM</td>\n",
       "      <td>Functional nutrition</td>\n",
       "      <td>649</td>\n",
       "      <td>7,15,121</td>\n",
       "    </tr>\n",
       "    <tr>\n",
       "      <th>8</th>\n",
       "      <td>01-Dec-20</td>\n",
       "      <td>Marketplace</td>\n",
       "      <td>AMAZON</td>\n",
       "      <td>TRIPHALA JUICE 1 L</td>\n",
       "      <td>Juices</td>\n",
       "      <td>910</td>\n",
       "      <td>2,21,417</td>\n",
       "    </tr>\n",
       "    <tr>\n",
       "      <th>9</th>\n",
       "      <td>01-Dec-20</td>\n",
       "      <td>Marketplace</td>\n",
       "      <td>AMAZON</td>\n",
       "      <td>TULSI GILOY JUICE 1 L</td>\n",
       "      <td>Juices</td>\n",
       "      <td>3,410</td>\n",
       "      <td>11,06,203</td>\n",
       "    </tr>\n",
       "  </tbody>\n",
       "</table>\n",
       "</div>"
      ],
      "text/plain": [
       "       Month      Channel Sub-Channels                   Product Name  \\\n",
       "0  01-Dec-20  Marketplace       AMAZON          ALOE + AMLA JUICE 1 L   \n",
       "1  01-Dec-20  Marketplace       AMAZON      ALOE + GARCINIA JUICE 1 L   \n",
       "2  01-Dec-20  Marketplace       AMAZON            ALOE VERA JUICE 1 L   \n",
       "3  01-Dec-20  Marketplace       AMAZON      ALOE VERA SKIN GEL 500 GM   \n",
       "4  01-Dec-20  Marketplace       AMAZON                 NEEM JUICE 1 L   \n",
       "5  01-Dec-20  Marketplace       AMAZON                 NONI JUICE 1 L   \n",
       "6  01-Dec-20  Marketplace       AMAZON  SLIM SHAKE - CHOCOLATE 500 GM   \n",
       "7  01-Dec-20  Marketplace       AMAZON      SLIM SHAKE - MANGO 500 GM   \n",
       "8  01-Dec-20  Marketplace       AMAZON             TRIPHALA JUICE 1 L   \n",
       "9  01-Dec-20  Marketplace       AMAZON          TULSI GILOY JUICE 1 L   \n",
       "\n",
       "               Category      Qty        Sales  \n",
       "0                Juices   1,116     4,28,700   \n",
       "1                Juices   3,003    13,74,831   \n",
       "2                Juices   2,962     7,32,167   \n",
       "3     Gourmet Nutrition   1,004     3,77,100   \n",
       "4                Juices     555     1,52,287   \n",
       "5                Juices     874     4,02,631   \n",
       "6  Functional nutrition     658     7,58,234   \n",
       "7  Functional nutrition     649     7,15,121   \n",
       "8                Juices     910     2,21,417   \n",
       "9                Juices   3,410    11,06,203   "
      ]
     },
     "execution_count": 3,
     "metadata": {},
     "output_type": "execute_result"
    }
   ],
   "source": [
    "df = pd.read_csv(\"Raw Sales Data.csv\")\n",
    "print(df.info())\n",
    "df.head(10)"
   ]
  },
  {
   "cell_type": "code",
   "execution_count": 4,
   "id": "443870cd-ae0a-4813-95c8-c56b0eb324ab",
   "metadata": {},
   "outputs": [],
   "source": [
    "df['Month']=pd.to_datetime(df['Month'])\n",
    "df['Sales']= df['Sales'].str.replace(\",\",\"\").astype(float)\n",
    "df['Qty']= df['Qty'].str.replace(\",\",\"\").astype(float)\n"
   ]
  },
  {
   "cell_type": "code",
   "execution_count": 5,
   "id": "f3491105-a504-4c22-b1da-08350c926931",
   "metadata": {},
   "outputs": [
    {
     "name": "stdout",
     "output_type": "stream",
     "text": [
      "<class 'pandas.core.frame.DataFrame'>\n",
      "RangeIndex: 224 entries, 0 to 223\n",
      "Data columns (total 7 columns):\n",
      " #   Column        Non-Null Count  Dtype         \n",
      "---  ------        --------------  -----         \n",
      " 0   Month         224 non-null    datetime64[ns]\n",
      " 1   Channel       224 non-null    object        \n",
      " 2   Sub-Channels  224 non-null    object        \n",
      " 3   Product Name  224 non-null    object        \n",
      " 4   Category      224 non-null    object        \n",
      " 5   Qty           224 non-null    float64       \n",
      " 6   Sales         224 non-null    float64       \n",
      "dtypes: datetime64[ns](1), float64(2), object(4)\n",
      "memory usage: 12.4+ KB\n"
     ]
    }
   ],
   "source": [
    "df.info()"
   ]
  },
  {
   "cell_type": "markdown",
   "id": "0b1b64e0-549f-4d4b-985c-32302643e047",
   "metadata": {},
   "source": [
    "### 1. Monthwise number of quantities sold"
   ]
  },
  {
   "cell_type": "code",
   "execution_count": 8,
   "id": "7bb82817-930d-4b83-baae-496933d6b033",
   "metadata": {},
   "outputs": [
    {
     "data": {
      "text/html": [
       "<div>\n",
       "<style scoped>\n",
       "    .dataframe tbody tr th:only-of-type {\n",
       "        vertical-align: middle;\n",
       "    }\n",
       "\n",
       "    .dataframe tbody tr th {\n",
       "        vertical-align: top;\n",
       "    }\n",
       "\n",
       "    .dataframe thead th {\n",
       "        text-align: right;\n",
       "    }\n",
       "</style>\n",
       "<table border=\"1\" class=\"dataframe\">\n",
       "  <thead>\n",
       "    <tr style=\"text-align: right;\">\n",
       "      <th></th>\n",
       "      <th>Month</th>\n",
       "      <th>Qty</th>\n",
       "    </tr>\n",
       "  </thead>\n",
       "  <tbody>\n",
       "    <tr>\n",
       "      <th>0</th>\n",
       "      <td>2020-12-01</td>\n",
       "      <td>85427.0</td>\n",
       "    </tr>\n",
       "    <tr>\n",
       "      <th>1</th>\n",
       "      <td>2021-01-01</td>\n",
       "      <td>67732.0</td>\n",
       "    </tr>\n",
       "    <tr>\n",
       "      <th>2</th>\n",
       "      <td>2021-02-01</td>\n",
       "      <td>76393.0</td>\n",
       "    </tr>\n",
       "    <tr>\n",
       "      <th>3</th>\n",
       "      <td>2021-03-01</td>\n",
       "      <td>80229.0</td>\n",
       "    </tr>\n",
       "  </tbody>\n",
       "</table>\n",
       "</div>"
      ],
      "text/plain": [
       "       Month      Qty\n",
       "0 2020-12-01  85427.0\n",
       "1 2021-01-01  67732.0\n",
       "2 2021-02-01  76393.0\n",
       "3 2021-03-01  80229.0"
      ]
     },
     "execution_count": 8,
     "metadata": {},
     "output_type": "execute_result"
    }
   ],
   "source": [
    "Monthwise_Qty = df.groupby('Month',as_index = False)['Qty'].sum()\n",
    "Monthwise_Qty"
   ]
  },
  {
   "cell_type": "markdown",
   "id": "af4fff90-b1b0-479e-abbc-b85265d9b930",
   "metadata": {},
   "source": [
    "### 2 Category wise Qty sold\n"
   ]
  },
  {
   "cell_type": "code",
   "execution_count": 9,
   "id": "36ab1dbb-92d7-4a7a-8686-834a84168c80",
   "metadata": {},
   "outputs": [
    {
     "data": {
      "text/html": [
       "<div>\n",
       "<style scoped>\n",
       "    .dataframe tbody tr th:only-of-type {\n",
       "        vertical-align: middle;\n",
       "    }\n",
       "\n",
       "    .dataframe tbody tr th {\n",
       "        vertical-align: top;\n",
       "    }\n",
       "\n",
       "    .dataframe thead th {\n",
       "        text-align: right;\n",
       "    }\n",
       "</style>\n",
       "<table border=\"1\" class=\"dataframe\">\n",
       "  <thead>\n",
       "    <tr style=\"text-align: right;\">\n",
       "      <th></th>\n",
       "      <th>Category</th>\n",
       "      <th>Qty</th>\n",
       "    </tr>\n",
       "  </thead>\n",
       "  <tbody>\n",
       "    <tr>\n",
       "      <th>0</th>\n",
       "      <td>Functional nutrition</td>\n",
       "      <td>42354.0</td>\n",
       "    </tr>\n",
       "    <tr>\n",
       "      <th>1</th>\n",
       "      <td>Gourmet Nutrition</td>\n",
       "      <td>89279.0</td>\n",
       "    </tr>\n",
       "    <tr>\n",
       "      <th>2</th>\n",
       "      <td>Juices</td>\n",
       "      <td>178148.0</td>\n",
       "    </tr>\n",
       "  </tbody>\n",
       "</table>\n",
       "</div>"
      ],
      "text/plain": [
       "               Category       Qty\n",
       "0  Functional nutrition   42354.0\n",
       "1     Gourmet Nutrition   89279.0\n",
       "2                Juices  178148.0"
      ]
     },
     "execution_count": 9,
     "metadata": {},
     "output_type": "execute_result"
    }
   ],
   "source": [
    "catwise_qty = df.groupby('Category',as_index = False)['Qty'].sum()\n",
    "catwise_qty"
   ]
  },
  {
   "cell_type": "markdown",
   "id": "e5e71521-c80e-43bb-9640-f54423472542",
   "metadata": {},
   "source": [
    "### 3. Sub-channel wise total sales\n"
   ]
  },
  {
   "cell_type": "code",
   "execution_count": 11,
   "id": "b2400c7c-3931-4a88-8012-4e9c1d35f267",
   "metadata": {},
   "outputs": [
    {
     "data": {
      "text/html": [
       "<div>\n",
       "<style scoped>\n",
       "    .dataframe tbody tr th:only-of-type {\n",
       "        vertical-align: middle;\n",
       "    }\n",
       "\n",
       "    .dataframe tbody tr th {\n",
       "        vertical-align: top;\n",
       "    }\n",
       "\n",
       "    .dataframe thead th {\n",
       "        text-align: right;\n",
       "    }\n",
       "</style>\n",
       "<table border=\"1\" class=\"dataframe\">\n",
       "  <thead>\n",
       "    <tr style=\"text-align: right;\">\n",
       "      <th></th>\n",
       "      <th>Sub-Channels</th>\n",
       "      <th>Sales</th>\n",
       "    </tr>\n",
       "  </thead>\n",
       "  <tbody>\n",
       "    <tr>\n",
       "      <th>0</th>\n",
       "      <td>AMAZON</td>\n",
       "      <td>35606804.0</td>\n",
       "    </tr>\n",
       "    <tr>\n",
       "      <th>1</th>\n",
       "      <td>Big Basket</td>\n",
       "      <td>1207522.0</td>\n",
       "    </tr>\n",
       "    <tr>\n",
       "      <th>2</th>\n",
       "      <td>D2C</td>\n",
       "      <td>28047538.0</td>\n",
       "    </tr>\n",
       "    <tr>\n",
       "      <th>3</th>\n",
       "      <td>Flipkart</td>\n",
       "      <td>3770415.0</td>\n",
       "    </tr>\n",
       "    <tr>\n",
       "      <th>4</th>\n",
       "      <td>GOQII</td>\n",
       "      <td>582600.0</td>\n",
       "    </tr>\n",
       "    <tr>\n",
       "      <th>5</th>\n",
       "      <td>Offline - Central</td>\n",
       "      <td>375332.0</td>\n",
       "    </tr>\n",
       "    <tr>\n",
       "      <th>6</th>\n",
       "      <td>Offline - East</td>\n",
       "      <td>811146.0</td>\n",
       "    </tr>\n",
       "    <tr>\n",
       "      <th>7</th>\n",
       "      <td>Offline - MT</td>\n",
       "      <td>6257948.0</td>\n",
       "    </tr>\n",
       "    <tr>\n",
       "      <th>8</th>\n",
       "      <td>Offline - South</td>\n",
       "      <td>3446395.0</td>\n",
       "    </tr>\n",
       "    <tr>\n",
       "      <th>9</th>\n",
       "      <td>Offline - West</td>\n",
       "      <td>6441427.0</td>\n",
       "    </tr>\n",
       "    <tr>\n",
       "      <th>10</th>\n",
       "      <td>Offline -North</td>\n",
       "      <td>1206564.0</td>\n",
       "    </tr>\n",
       "  </tbody>\n",
       "</table>\n",
       "</div>"
      ],
      "text/plain": [
       "         Sub-Channels       Sales\n",
       "0              AMAZON  35606804.0\n",
       "1          Big Basket   1207522.0\n",
       "2                 D2C  28047538.0\n",
       "3            Flipkart   3770415.0\n",
       "4               GOQII    582600.0\n",
       "5   Offline - Central    375332.0\n",
       "6      Offline - East    811146.0\n",
       "7        Offline - MT   6257948.0\n",
       "8     Offline - South   3446395.0\n",
       "9      Offline - West   6441427.0\n",
       "10     Offline -North   1206564.0"
      ]
     },
     "execution_count": 11,
     "metadata": {},
     "output_type": "execute_result"
    }
   ],
   "source": [
    "Subchannelwise_Sales = df.groupby(\"Sub-Channels\",as_index = False)['Sales'].sum()\n",
    "Subchannelwise_Sales"
   ]
  },
  {
   "cell_type": "markdown",
   "id": "a1820618-ad5c-48ef-b6b4-7f20604f79e2",
   "metadata": {},
   "source": [
    "### 4. Highest sale in which month\n"
   ]
  },
  {
   "cell_type": "code",
   "execution_count": 13,
   "id": "38b1fd34-2496-4f7a-b130-3426557e36cc",
   "metadata": {},
   "outputs": [
    {
     "data": {
      "text/html": [
       "<div>\n",
       "<style scoped>\n",
       "    .dataframe tbody tr th:only-of-type {\n",
       "        vertical-align: middle;\n",
       "    }\n",
       "\n",
       "    .dataframe tbody tr th {\n",
       "        vertical-align: top;\n",
       "    }\n",
       "\n",
       "    .dataframe thead th {\n",
       "        text-align: right;\n",
       "    }\n",
       "</style>\n",
       "<table border=\"1\" class=\"dataframe\">\n",
       "  <thead>\n",
       "    <tr style=\"text-align: right;\">\n",
       "      <th></th>\n",
       "      <th>Month</th>\n",
       "      <th>Sales</th>\n",
       "    </tr>\n",
       "  </thead>\n",
       "  <tbody>\n",
       "    <tr>\n",
       "      <th>3</th>\n",
       "      <td>2021-03-01</td>\n",
       "      <td>25127827.0</td>\n",
       "    </tr>\n",
       "  </tbody>\n",
       "</table>\n",
       "</div>"
      ],
      "text/plain": [
       "       Month       Sales\n",
       "3 2021-03-01  25127827.0"
      ]
     },
     "execution_count": 13,
     "metadata": {},
     "output_type": "execute_result"
    }
   ],
   "source": [
    "Heighest_sale = df.groupby('Month',as_index = False)['Sales'].sum().sort_values('Sales', ascending = False).head(1)\n",
    "Heighest_sale"
   ]
  },
  {
   "cell_type": "markdown",
   "id": "11875cd4-5b4e-4d2e-97f9-2b32549566d8",
   "metadata": {},
   "source": [
    "### 5. Highest selling product (based on sales) (packaging quantity doesn't matter. Ex. consider \"GET SLIM JUICE 1 L\" and \"GET SLIM JUICE 500 ML\" as one product)\n"
   ]
  },
  {
   "cell_type": "code",
   "execution_count": 21,
   "id": "5e93a702-d78e-454c-81ad-3cc88b13e774",
   "metadata": {},
   "outputs": [
    {
     "name": "stderr",
     "output_type": "stream",
     "text": [
      "C:\\Users\\HP\\AppData\\Local\\Temp\\ipykernel_10896\\3822594838.py:1: FutureWarning: The default value of numeric_only in DataFrameGroupBy.sum is deprecated. In a future version, numeric_only will default to False. Either specify numeric_only or select only columns which should be valid for the function.\n",
      "  df_product_sales = pd.DataFrame(df.groupby('Product Name_clean').sum())\n"
     ]
    },
    {
     "data": {
      "text/html": [
       "<div>\n",
       "<style scoped>\n",
       "    .dataframe tbody tr th:only-of-type {\n",
       "        vertical-align: middle;\n",
       "    }\n",
       "\n",
       "    .dataframe tbody tr th {\n",
       "        vertical-align: top;\n",
       "    }\n",
       "\n",
       "    .dataframe thead th {\n",
       "        text-align: right;\n",
       "    }\n",
       "</style>\n",
       "<table border=\"1\" class=\"dataframe\">\n",
       "  <thead>\n",
       "    <tr style=\"text-align: right;\">\n",
       "      <th></th>\n",
       "      <th>Qty</th>\n",
       "      <th>Sales</th>\n",
       "    </tr>\n",
       "  </thead>\n",
       "  <tbody>\n",
       "    <tr>\n",
       "      <th>ALOE + GARCINIA JUICE</th>\n",
       "      <td>23585.0</td>\n",
       "      <td>12249252.0</td>\n",
       "    </tr>\n",
       "  </tbody>\n",
       "</table>\n",
       "</div>"
      ],
      "text/plain": [
       "                            Qty       Sales\n",
       "ALOE + GARCINIA JUICE   23585.0  12249252.0"
      ]
     },
     "execution_count": 21,
     "metadata": {},
     "output_type": "execute_result"
    }
   ],
   "source": [
    "df_product_sales = pd.DataFrame(df.groupby('Product Name_clean').sum())\n",
    "df_product_sales.sort_values(by=['Sales'],inplace=True,ascending=False)\n",
    "df_highest_sales_product = pd.DataFrame(df_product_sales.iloc[0,:]).T\n",
    "df_highest_sales_product\n"
   ]
  },
  {
   "cell_type": "markdown",
   "id": "e68653c4-73d4-4352-98b1-452ef5f4de01",
   "metadata": {},
   "source": [
    "### 6 List of different products company is offering (packaging quantity doesn't matter. Ex. consider \"GET SLIM JUICE 1 L\" and \"GET SLIM JUICE 500 ML\" as one product)\n"
   ]
  },
  {
   "cell_type": "code",
   "execution_count": 15,
   "id": "ab2a0f86-f084-4d09-9147-becc4910e79a",
   "metadata": {},
   "outputs": [
    {
     "data": {
      "text/html": [
       "<div>\n",
       "<style scoped>\n",
       "    .dataframe tbody tr th:only-of-type {\n",
       "        vertical-align: middle;\n",
       "    }\n",
       "\n",
       "    .dataframe tbody tr th {\n",
       "        vertical-align: top;\n",
       "    }\n",
       "\n",
       "    .dataframe thead th {\n",
       "        text-align: right;\n",
       "    }\n",
       "</style>\n",
       "<table border=\"1\" class=\"dataframe\">\n",
       "  <thead>\n",
       "    <tr style=\"text-align: right;\">\n",
       "      <th></th>\n",
       "      <th>Month</th>\n",
       "      <th>Channel</th>\n",
       "      <th>Sub-Channels</th>\n",
       "      <th>Product Name</th>\n",
       "      <th>Category</th>\n",
       "      <th>Qty</th>\n",
       "      <th>Sales</th>\n",
       "      <th>Product Name_clean</th>\n",
       "    </tr>\n",
       "  </thead>\n",
       "  <tbody>\n",
       "    <tr>\n",
       "      <th>0</th>\n",
       "      <td>2020-12-01</td>\n",
       "      <td>Marketplace</td>\n",
       "      <td>AMAZON</td>\n",
       "      <td>ALOE + AMLA JUICE 1 L</td>\n",
       "      <td>Juices</td>\n",
       "      <td>1116.0</td>\n",
       "      <td>428700.0</td>\n",
       "      <td>ALOE + AMLA JUICE</td>\n",
       "    </tr>\n",
       "    <tr>\n",
       "      <th>1</th>\n",
       "      <td>2020-12-01</td>\n",
       "      <td>Marketplace</td>\n",
       "      <td>AMAZON</td>\n",
       "      <td>ALOE + GARCINIA JUICE 1 L</td>\n",
       "      <td>Juices</td>\n",
       "      <td>3003.0</td>\n",
       "      <td>1374831.0</td>\n",
       "      <td>ALOE + GARCINIA JUICE</td>\n",
       "    </tr>\n",
       "    <tr>\n",
       "      <th>2</th>\n",
       "      <td>2020-12-01</td>\n",
       "      <td>Marketplace</td>\n",
       "      <td>AMAZON</td>\n",
       "      <td>ALOE VERA JUICE 1 L</td>\n",
       "      <td>Juices</td>\n",
       "      <td>2962.0</td>\n",
       "      <td>732167.0</td>\n",
       "      <td>ALOE VERA JUICE</td>\n",
       "    </tr>\n",
       "    <tr>\n",
       "      <th>3</th>\n",
       "      <td>2020-12-01</td>\n",
       "      <td>Marketplace</td>\n",
       "      <td>AMAZON</td>\n",
       "      <td>ALOE VERA SKIN GEL 500 GM</td>\n",
       "      <td>Gourmet Nutrition</td>\n",
       "      <td>1004.0</td>\n",
       "      <td>377100.0</td>\n",
       "      <td>ALOE VERA SKIN GEL</td>\n",
       "    </tr>\n",
       "    <tr>\n",
       "      <th>4</th>\n",
       "      <td>2020-12-01</td>\n",
       "      <td>Marketplace</td>\n",
       "      <td>AMAZON</td>\n",
       "      <td>NEEM JUICE 1 L</td>\n",
       "      <td>Juices</td>\n",
       "      <td>555.0</td>\n",
       "      <td>152287.0</td>\n",
       "      <td>NEEM JUICE</td>\n",
       "    </tr>\n",
       "  </tbody>\n",
       "</table>\n",
       "</div>"
      ],
      "text/plain": [
       "       Month      Channel Sub-Channels               Product Name  \\\n",
       "0 2020-12-01  Marketplace       AMAZON      ALOE + AMLA JUICE 1 L   \n",
       "1 2020-12-01  Marketplace       AMAZON  ALOE + GARCINIA JUICE 1 L   \n",
       "2 2020-12-01  Marketplace       AMAZON        ALOE VERA JUICE 1 L   \n",
       "3 2020-12-01  Marketplace       AMAZON  ALOE VERA SKIN GEL 500 GM   \n",
       "4 2020-12-01  Marketplace       AMAZON             NEEM JUICE 1 L   \n",
       "\n",
       "            Category     Qty      Sales      Product Name_clean  \n",
       "0             Juices  1116.0   428700.0      ALOE + AMLA JUICE   \n",
       "1             Juices  3003.0  1374831.0  ALOE + GARCINIA JUICE   \n",
       "2             Juices  2962.0   732167.0        ALOE VERA JUICE   \n",
       "3  Gourmet Nutrition  1004.0   377100.0     ALOE VERA SKIN GEL   \n",
       "4             Juices   555.0   152287.0             NEEM JUICE   "
      ]
     },
     "execution_count": 15,
     "metadata": {},
     "output_type": "execute_result"
    }
   ],
   "source": [
    "df['Product Name_clean'] = df['Product Name'].apply(lambda x: re.sub(\"\\d+\",\"---\",x))\n",
    "df['Product Name_clean']= df['Product Name_clean'].apply(lambda x: x.split(\"---\")[0])\n",
    "df.head()\n"
   ]
  },
  {
   "cell_type": "markdown",
   "id": "51662699-3e0c-4e6d-bcfb-45ad3d23e309",
   "metadata": {},
   "source": [
    "### 7. Create a single excel file to save all the outputs generated above in different subsheets. Email final output file and your python code (.ipynb) file \n"
   ]
  },
  {
   "cell_type": "code",
   "execution_count": 22,
   "id": "764fdaf8-1223-448b-bfc5-417b94cfea3f",
   "metadata": {},
   "outputs": [
    {
     "ename": "NameError",
     "evalue": "name 'df_month_qty' is not defined",
     "output_type": "error",
     "traceback": [
      "\u001b[1;31m---------------------------------------------------------------------------\u001b[0m",
      "\u001b[1;31mNameError\u001b[0m                                 Traceback (most recent call last)",
      "Cell \u001b[1;32mIn[22], line 2\u001b[0m\n\u001b[0;32m      1\u001b[0m writer \u001b[38;5;241m=\u001b[39m pd\u001b[38;5;241m.\u001b[39mExcelWriter(\u001b[38;5;124m\"\u001b[39m\u001b[38;5;124mOutput_File.xlsx\u001b[39m\u001b[38;5;124m\"\u001b[39m)\n\u001b[1;32m----> 2\u001b[0m \u001b[43mdf_month_qty\u001b[49m\u001b[38;5;241m.\u001b[39mto_excel(writer,sheet_name\u001b[38;5;241m=\u001b[39m\u001b[38;5;124m\"\u001b[39m\u001b[38;5;124mmonthwise-quantity\u001b[39m\u001b[38;5;124m\"\u001b[39m,index\u001b[38;5;241m=\u001b[39m\u001b[38;5;28;01mFalse\u001b[39;00m)\n\u001b[0;32m      3\u001b[0m df_month_sales\u001b[38;5;241m.\u001b[39mto_excel(writer,sheet_name\u001b[38;5;241m=\u001b[39m\u001b[38;5;124m\"\u001b[39m\u001b[38;5;124mmonthwise-sales\u001b[39m\u001b[38;5;124m\"\u001b[39m,index\u001b[38;5;241m=\u001b[39m\u001b[38;5;28;01mFalse\u001b[39;00m)\n\u001b[0;32m      4\u001b[0m df_highest_sales_month\u001b[38;5;241m.\u001b[39mto_excel(writer,sheet_name\u001b[38;5;241m=\u001b[39m\u001b[38;5;124m'\u001b[39m\u001b[38;5;124mhighest_sales_month\u001b[39m\u001b[38;5;124m'\u001b[39m,index\u001b[38;5;241m=\u001b[39m\u001b[38;5;28;01mFalse\u001b[39;00m)\n",
      "\u001b[1;31mNameError\u001b[0m: name 'df_month_qty' is not defined"
     ]
    }
   ],
   "source": [
    "writer = pd.ExcelWriter(\"Output_File.xlsx\")\n",
    "Monthwise_Qty.to_excel(writer,sheet_name=\"monthwise-quantity\",index=False)\n",
    "catwise_qty.to_excel(writer,sheet_name=\"categorywise-qty\",index=False)\n",
    "Subchannelwise_Sales.to_excel(writer,sheet_name='channelwise-sale',index=False)\n",
    "Heighest_sale.to_excel(writer, sheet_name=\"highest-sale\",index=False)\n",
    "df_product_sales.to_excel(writer,sheet_name=\"hi\",index=False)\n",
    "\n"
   ]
  },
  {
   "cell_type": "code",
   "execution_count": null,
   "id": "d8fbb05c-d497-4cfb-ba51-d85165d0c51d",
   "metadata": {},
   "outputs": [],
   "source": []
  }
 ],
 "metadata": {
  "kernelspec": {
   "display_name": "Python 3 (ipykernel)",
   "language": "python",
   "name": "python3"
  },
  "language_info": {
   "codemirror_mode": {
    "name": "ipython",
    "version": 3
   },
   "file_extension": ".py",
   "mimetype": "text/x-python",
   "name": "python",
   "nbconvert_exporter": "python",
   "pygments_lexer": "ipython3",
   "version": "3.10.9"
  }
 },
 "nbformat": 4,
 "nbformat_minor": 5
}
